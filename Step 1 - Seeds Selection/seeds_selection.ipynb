{
 "cells": [
  {
   "cell_type": "markdown",
   "metadata": {},
   "source": [
    "## Seed selection"
   ]
  },
  {
   "cell_type": "code",
   "execution_count": null,
   "metadata": {},
   "outputs": [],
   "source": [
    "import gensim\n",
    "gensim.__version__"
   ]
  },
  {
   "cell_type": "code",
   "execution_count": null,
   "metadata": {},
   "outputs": [],
   "source": [
    "import nltk\n",
    "nltk.__version__"
   ]
  },
  {
   "cell_type": "code",
   "execution_count": null,
   "metadata": {},
   "outputs": [],
   "source": [
    "from gensim.scripts.glove2word2vec import glove2word2vec\n",
    "global_glove_file = '../CI_Policy_Annotation/Flask/static/glove.6B/glove.6B.50d.txt'\n",
    "glove2word2vec(glove_input_file=global_glove_file, word2vec_output_file=\"gensim_glove_vectors.txt\")\n",
    "\n",
    "from gensim.models.keyedvectors import KeyedVectors\n",
    "glove_model = KeyedVectors.load_word2vec_format(\"gensim_glove_vectors.txt\", binary=False)"
   ]
  },
  {
   "cell_type": "code",
   "execution_count": null,
   "metadata": {},
   "outputs": [],
   "source": [
    "import pandas as pd\n",
    "df = pd.read_csv('fews-district-all.csv')\n",
    "countries = df['country'].unique()"
   ]
  },
  {
   "cell_type": "code",
   "execution_count": null,
   "metadata": {},
   "outputs": [],
   "source": [
    "countries"
   ]
  },
  {
   "cell_type": "code",
   "execution_count": null,
   "metadata": {},
   "outputs": [],
   "source": [
    "from collections import Counter\n",
    "\n",
    "def bigram_sequence(text_lst):\n",
    "    result = [a for ls in text_lst for a in zip(ls.split(\" \")[:-1], ls.split(\" \")[1:]) if 'food' in a or 'hunger' in a]\n",
    "    return result\n",
    "\n",
    "def trigram_sequence(text_lst):\n",
    "    result = [a for ls in text_lst for a in zip(ls.split(\" \")[:-2], ls.split(\" \")[1:-1], ls.split(\" \")[2:]) if 'food' in a or 'hunger' in a]\n",
    "    return result\n",
    "\n",
    "def get_words(country):\n",
    "    words = Counter([])\n",
    "    for t in range(25):\n",
    "        # Post-processed Factiva avro files into csv\n",
    "        df = pd.read_csv(\"./templates-v3/{}/tmp{}.csv\".format(country, str(t).zfill(2)))\n",
    "        for r in df.iterrows():\n",
    "            unigrams = set(r[1]['body'].split())\n",
    "            bigrams = set(bigram_sequence(r[1]['body'].split('.')))\n",
    "            trigrams = set(trigram_sequence(r[1]['body'].split('.')))\n",
    "            words.update(unigrams)\n",
    "            words.update(bigrams)\n",
    "            words.update(trigrams)\n",
    "    return words\n",
    "\n",
    "all_words = Counter([])\n",
    "for country in countries:\n",
    "    all_words.update(get_words(country))\n",
    "select_df = pd.DataFrame()\n",
    "select_df['seed'] = list(all_words)\n",
    "select_df.to_csv('selected_words.csv')"
   ]
  },
  {
   "cell_type": "code",
   "execution_count": null,
   "metadata": {},
   "outputs": [],
   "source": [
    "# Add unigrams, bigrams and trigrams with word 'food' and 'hunger'\n",
    "seeds = pd.read_csv('selected_words.csv')\n",
    "keys = ['hunger crises', 'famine', 'food insecurity']\n",
    "seeds['distance'] = seeds['seed'].apply(lambda x: min([glove_model.wmdistance(x, k) for k in keys]))\n",
    "\n",
    "# Including the 3 keys, retain just the top 100\n",
    "seeds.sort_values(by=['distance'])[:103].to_csv('seeds_with_distance.csv')"
   ]
  },
  {
   "cell_type": "code",
   "execution_count": null,
   "metadata": {},
   "outputs": [],
   "source": [
    "seeds['distance'].describe()"
   ]
  }
 ],
 "metadata": {
  "kernelspec": {
   "display_name": "Python 3 (ipykernel)",
   "language": "python",
   "name": "python3"
  },
  "language_info": {
   "codemirror_mode": {
    "name": "ipython",
    "version": 3
   },
   "file_extension": ".py",
   "mimetype": "text/x-python",
   "name": "python",
   "nbconvert_exporter": "python",
   "pygments_lexer": "ipython3",
   "version": "3.8.11"
  }
 },
 "nbformat": 4,
 "nbformat_minor": 2
}
